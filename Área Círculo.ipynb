{
 "cells": [
  {
   "cell_type": "code",
   "execution_count": 10,
   "metadata": {
    "collapsed": false
   },
   "outputs": [
    {
     "name": "stdout",
     "output_type": "stream",
     "text": [
      "Numero de valores: 3\n",
      "('Area Teorica:', 78.53981633974483, 0, 3)\n"
     ]
    }
   ],
   "source": [
    "import numpy as np\n",
    "import matplotlib.pyplot as plt\n",
    "import math\n",
    "\n",
    "n=int(input(\"Numero de valores: \"))\n",
    "\n",
    "def randux(r):\n",
    "    x0=101\n",
    "    d1=[]\n",
    "    for i in range(r):\n",
    "        mod =(17*x0+73)%127\n",
    "        ui=float(mod)/127\n",
    "        x0=mod\n",
    "        d1.append(ui)\n",
    "    return d1\n",
    "\n",
    "def randuy(r):\n",
    "    x0=23\n",
    "    d2=[]\n",
    "    for i in range(r):\n",
    "        mod =(41*x0+19)%269\n",
    "        #print (\"x\",i+1,mod)\n",
    "        ui=float(mod)/269\n",
    "        #print (\"U\",i+1,ui)\n",
    "        xo=mod\n",
    "        d2.append(ui)\n",
    "    return d2\n",
    "\n",
    "d1=randux(n)\n",
    "d2=randuy(n)\n",
    "\n",
    "c=0\n",
    "N=n\n",
    "sali=[]\n",
    "plt.ion()\n",
    "axi=plt.gca()\n",
    "\n",
    "for i in range(n):\n",
    "    d1[i]=(12)*d1[i]-6\n",
    "for j in range(n):\n",
    "    d2[j]=(12)*d2[j]-6\n",
    "    \n",
    "\n",
    "for i in range(n):\n",
    "    if(6**2>=((d1[i]*d1[i])+(d2[i]*d2[i]))):#verifica si esta dentro del circulo\n",
    "        c=c+1\n",
    "        d=1/(N*100)\n",
    "        d=d+d\n",
    "        axi.plot(d1[i],d2[i],'g.')\n",
    "    else:\n",
    "        axi.plot(d1[i],d2[i],'r.')\n",
    "    if i%120==0:\n",
    "        plt.draw()\n",
    "        plt.title(\"Area del circulo\"+str(math.pi*25))\n",
    "\n",
    "aest=c*d #area estimada\n",
    "print(\"Area Teorica:\",math.pi*25, aest,c)"
   ]
  },
  {
   "cell_type": "code",
   "execution_count": null,
   "metadata": {
    "collapsed": true
   },
   "outputs": [],
   "source": []
  }
 ],
 "metadata": {
  "kernelspec": {
   "display_name": "Python 2",
   "language": "python",
   "name": "python2"
  },
  "language_info": {
   "codemirror_mode": {
    "name": "ipython",
    "version": 2
   },
   "file_extension": ".py",
   "mimetype": "text/x-python",
   "name": "python",
   "nbconvert_exporter": "python",
   "pygments_lexer": "ipython2",
   "version": "2.7.11"
  }
 },
 "nbformat": 4,
 "nbformat_minor": 0
}
