{
 "cells": [
  {
   "cell_type": "code",
   "execution_count": 1,
   "metadata": {
    "collapsed": false
   },
   "outputs": [
    {
     "name": "stdout",
     "output_type": "stream",
     "text": [
      "Ingrese la semilla: 4\n",
      "Ingrese el multiplicador: 5\n",
      "Ingrese la constante aditiva: 7\n",
      "Ingrese el modulo: 8\n",
      "Ingrese cuantas datos quiere generar: 8\n",
      "U0=0.375\n",
      "U1=0.75\n",
      "U2=0.625\n",
      "U3=0.0\n",
      "U4=0.875\n",
      "U5=0.25\n",
      "U6=0.125\n",
      "U7=0.5\n"
     ]
    }
   ],
   "source": [
    "x0=input(\"Ingrese la semilla: \");\n",
    "a=input(\"Ingrese el multiplicador: \");\n",
    "b=input(\"Ingrese la constante aditiva: \");\n",
    "m=input(\"Ingrese el modulo: \");\n",
    "un=input(\"Ingrese cuantas datos quiere generar: \");\n",
    "x=0;\n",
    "un=int(un);\n",
    "x0=int(x0);\n",
    "a=int(a);\n",
    "b=int(b);\n",
    "m=int(m);\n",
    "while x<un:\n",
    "    x0=((a*x0)+b)%m;\n",
    "    print(\"U\"+str(x)+\"=\"+str(float(x0)/m));\n",
    "    x=x+1;"
   ]
  },
  {
   "cell_type": "code",
   "execution_count": null,
   "metadata": {
    "collapsed": true
   },
   "outputs": [],
   "source": []
  }
 ],
 "metadata": {
  "kernelspec": {
   "display_name": "Python 3",
   "language": "python",
   "name": "python3"
  },
  "language_info": {
   "codemirror_mode": {
    "name": "ipython",
    "version": 3
   },
   "file_extension": ".py",
   "mimetype": "text/x-python",
   "name": "python",
   "nbconvert_exporter": "python",
   "pygments_lexer": "ipython3",
   "version": "3.5.1"
  }
 },
 "nbformat": 4,
 "nbformat_minor": 0
}
