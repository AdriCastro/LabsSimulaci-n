{
 "cells": [
  {
   "cell_type": "code",
   "execution_count": null,
   "metadata": {
    "collapsed": true
   },
   "outputs": [],
   "source": [
    "x0=input(\"Ingrese la semilla: \");\n",
    "r=input(\"Ingrese cuantas datos quiere mostrar: \");\n",
    "l=len(str(x0));\n",
    "x=1;\n",
    "x0=int(x0);\n",
    "r=int(r);\n",
    "x0=x0*x0;\n",
    "\n",
    "\n",
    "while x<r+1:\n",
    "    x0=str(x0);\n",
    "    #print x0;\n",
    "    if len(x0)%2==0 and len(x0)==(2*l):\n",
    "        x1=x0[((2*l)/4):((2*3*l)/4)];  \n",
    "        print (\"X\"+str(x)+\"=\"+x1);\n",
    "        print (\"U\"+str(x)+\"=0.\"+x1);\n",
    "        print (\"\");\n",
    "        x=x+1;\n",
    "        x1=int(x1);\n",
    "        x0=x1*x1;\n",
    "    else:\n",
    "        aux=\"\";\n",
    "        for i in range((2*l)-len(str(x0))):\n",
    "            aux=aux+\"0\";\n",
    "        x0=str(x0);\n",
    "        x0=aux+x0;\n",
    "\n",
    "\n",
    "    s=input(\"Ingrese la semilla(el valor debe ser 2n): \")\n",
    "    na=input(\"Ingrese la cantidad de numeros que desea generar: \")\n",
    "    lons=len(str(s))\n",
    "    c=1\n",
    "    s=s**2\n",
    "\n",
    "    while c<na+1:\n",
    "        s=str(s)\n",
    "\n",
    "        if len(s)%2==0 and len(s)==(2*lons): ##valida que la semilal sea de 2n numeros y el cuadrado de 4n numeros\n",
    "\n",
    "            sp=s[((2*lons)/4):((2*3*lons)/4)]   ##se separan los numeros del medio desde la cuarta parte de la semilla al cuadrado hasta la tercera parte      \n",
    "            print (\"Primer numero aleatorio: \"+str(c)+\" = 0.\"+sp)\n",
    "            print (\"-------------------------------\")\n",
    "            c=c+1\n",
    "            sp=int(sp)\n",
    "            s=sp**2\n",
    "\n",
    "        else:                                ## se le agrega el 0 a los que no son 4n numeros y vuelve y empieza el while\n",
    "\n",
    "            nimp=\"0\"\n",
    "            s=str(s)\n",
    "            s=nimp+s"
   ]
  }
 ],
 "metadata": {
  "kernelspec": {
   "display_name": "Python 3",
   "language": "python",
   "name": "python3"
  },
  "language_info": {
   "codemirror_mode": {
    "name": "ipython",
    "version": 3
   },
   "file_extension": ".py",
   "mimetype": "text/x-python",
   "name": "python",
   "nbconvert_exporter": "python",
   "pygments_lexer": "ipython3",
   "version": "3.5.1"
  }
 },
 "nbformat": 4,
 "nbformat_minor": 0
}
