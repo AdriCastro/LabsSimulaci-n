{
 "cells": [
  {
   "cell_type": "code",
   "execution_count": 6,
   "metadata": {
    "collapsed": false
   },
   "outputs": [
    {
     "name": "stdout",
     "output_type": "stream",
     "text": [
      "Ingrese la semilla: 23\n",
      "Ingrese cuantas datos quiere mostrar: 3\n",
      "Ingrese la semilla(el valor debe ser 2n): 0529\n",
      "Ingrese la cantidad de numeros que desea generar: 2\n"
     ]
    },
    {
     "ename": "TypeError",
     "evalue": "unsupported operand type(s) for ** or pow(): 'str' and 'int'",
     "output_type": "error",
     "traceback": [
      "\u001b[1;31m---------------------------------------------------------------------------\u001b[0m",
      "\u001b[1;31mTypeError\u001b[0m                                 Traceback (most recent call last)",
      "\u001b[1;32m<ipython-input-6-9782dbc7e06b>\u001b[0m in \u001b[0;36m<module>\u001b[1;34m()\u001b[0m\n\u001b[0;32m     31\u001b[0m     \u001b[0mlons\u001b[0m\u001b[1;33m=\u001b[0m\u001b[0mlen\u001b[0m\u001b[1;33m(\u001b[0m\u001b[0mstr\u001b[0m\u001b[1;33m(\u001b[0m\u001b[0ms\u001b[0m\u001b[1;33m)\u001b[0m\u001b[1;33m)\u001b[0m\u001b[1;33m\u001b[0m\u001b[0m\n\u001b[0;32m     32\u001b[0m     \u001b[0mc\u001b[0m\u001b[1;33m=\u001b[0m\u001b[1;36m1\u001b[0m\u001b[1;33m\u001b[0m\u001b[0m\n\u001b[1;32m---> 33\u001b[1;33m     \u001b[0ms\u001b[0m\u001b[1;33m=\u001b[0m\u001b[0ms\u001b[0m\u001b[1;33m**\u001b[0m\u001b[1;36m2\u001b[0m\u001b[1;33m\u001b[0m\u001b[0m\n\u001b[0m\u001b[0;32m     34\u001b[0m \u001b[1;33m\u001b[0m\u001b[0m\n\u001b[0;32m     35\u001b[0m     \u001b[1;32mwhile\u001b[0m \u001b[0mc\u001b[0m\u001b[1;33m<\u001b[0m\u001b[0mna\u001b[0m\u001b[1;33m+\u001b[0m\u001b[1;36m1\u001b[0m\u001b[1;33m:\u001b[0m\u001b[1;33m\u001b[0m\u001b[0m\n",
      "\u001b[1;31mTypeError\u001b[0m: unsupported operand type(s) for ** or pow(): 'str' and 'int'"
     ]
    }
   ],
   "source": [
    "x0=input(\"Ingrese la semilla: \");\n",
    "r=input(\"Ingrese cuantas datos quiere mostrar: \");\n",
    "l=len(str(x0));\n",
    "x=1;\n",
    "x0=int(x0);\n",
    "r=int(r);\n",
    "x0=x0*x0;\n",
    "\n",
    "\n",
    "while x<r+1:\n",
    "    x0=str(x0);\n",
    "    #print x0;\n",
    "    if len(x0)%2==0 and len(x0)==(2*l):\n",
    "        x1=x0[((2*l)/4):((2*3*l)/4)];  \n",
    "        print (\"X\"+str(x)+\"=\"+x1);\n",
    "        print (\"U\"+str(x)+\"=0.\"+x1);\n",
    "        print (\"\");\n",
    "        x=x+1;\n",
    "        x1=int(x1);\n",
    "        x0=x1*x1;\n",
    "    else:\n",
    "        aux=\"\";\n",
    "        for i in range((2*l)-len(str(x0))):\n",
    "            aux=aux+\"0\";\n",
    "        x0=str(x0);\n",
    "        x0=aux+x0;\n",
    "\n",
    "\n",
    "    s=input(\"Ingrese la semilla(el valor debe ser 2n): \")\n",
    "    na=input(\"Ingrese la cantidad de numeros que desea generar: \")\n",
    "    lons=len(str(s))\n",
    "    c=1\n",
    "    s=s**2\n",
    "\n",
    "    while c<na+1:\n",
    "        s=str(s)\n",
    "\n",
    "        if len(s)%2==0 and len(s)==(2*lons): ##valida que la semilal sea de 2n numeros y el cuadrado de 4n numeros\n",
    "\n",
    "            sp=s[((2*lons)/4):((2*3*lons)/4)]   ##se separan los numeros del medio desde la cuarta parte de la semilla al cuadrado hasta la tercera parte      \n",
    "            print (\"Primer numero aleatorio: \"+str(c)+\" = 0.\"+sp)\n",
    "            print (\"-------------------------------\")\n",
    "            c=c+1\n",
    "            sp=int(sp)\n",
    "            s=sp**2\n",
    "\n",
    "        else:                                ## se le agrega el 0 a los que no son 4n numeros y vuelve y empieza el while\n",
    "\n",
    "            nimp=\"0\"\n",
    "            s=str(s)\n",
    "            s=nimp+s\n"
   ]
  },
  {
   "cell_type": "code",
   "execution_count": null,
   "metadata": {
    "collapsed": true
   },
   "outputs": [],
   "source": []
  },
  {
   "cell_type": "code",
   "execution_count": null,
   "metadata": {
    "collapsed": true
   },
   "outputs": [],
   "source": []
  }
 ],
 "metadata": {
  "kernelspec": {
   "display_name": "Python 3",
   "language": "python",
   "name": "python3"
  },
  "language_info": {
   "codemirror_mode": {
    "name": "ipython",
    "version": 3
   },
   "file_extension": ".py",
   "mimetype": "text/x-python",
   "name": "python",
   "nbconvert_exporter": "python",
   "pygments_lexer": "ipython3",
   "version": "3.5.1"
  }
 },
 "nbformat": 4,
 "nbformat_minor": 0
}
